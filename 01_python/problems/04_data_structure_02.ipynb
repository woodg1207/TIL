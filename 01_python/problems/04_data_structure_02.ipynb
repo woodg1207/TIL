{
 "cells": [
  {
   "cell_type": "markdown",
   "metadata": {},
   "source": [
    "# 메소드 없는 세상 <1>\n",
    "\n",
    "> 알파벳으로 이뤄진 word를 입력받아 알파벳 대소문자를 서로 교환한 결과를 반환하는 `my_swapcase(word)`를 작성해주세요.\n",
    "\n",
    "**`.upper()`, `.lower()`, `swapcase()`는 사용하지 말아주세요.**\n",
    "\n",
    "**Tip! 문자와 숫자에는 특별한 관계가 있습니다. Google에서 아스키 코드를 참고하세요**\n",
    "\n",
    "```python\n",
    "# 예시\n",
    "print(my_swapcase('hello, World!')) # => HELLO, wORLD!\n",
    "print(my_swapcase('@_@')) # => @_@\n",
    "print(my_swapcase('2^3은 8이다!')) # => 2^3은 8이다!\n",
    "```"
   ]
  },
  {
   "cell_type": "code",
   "execution_count": null,
   "metadata": {},
   "outputs": [],
   "source": [
    "# 아래에 코드를 작성해주세요.  32 차이가 난다. \n",
    "def my_swapcase(words):\n",
    "    new_words = []\n",
    "    for word in words:\n",
    "        if 97 <= ord(word) <= 122:\n",
    "            new_words.append(chr(ord(word)-32))\n",
    "        elif 65 <= ord(word) <= 90:\n",
    "            new_words.append(chr(ord(word)+32))\n",
    "        else:\n",
    "            new_words.append(word)\n",
    "\n",
    "    return ''.join(new_words)\n",
    "  "
   ]
  },
  {
   "cell_type": "code",
   "execution_count": null,
   "metadata": {},
   "outputs": [],
   "source": [
    "print(my_swapcase('hello, World!'))\n",
    "print(my_swapcase('@_@'))\n",
    "print(my_swapcase('2^3은 8이다!'))"
   ]
  },
  {
   "cell_type": "markdown",
   "metadata": {},
   "source": [
    "# 메소드 없는 세상 <2>\n",
    "\n",
    "> 우리는 문자열을 만들어 나갈 때, `.join(iterable)` 함수를 사용합니다. \n",
    ">\n",
    "> `.join(iterable)`이 생각나지 않을 때를 위해 직접 만들어보면서 감사함을 느껴봅시다.\n",
    ">\n",
    "> `my_join(target, word)`를 만들어 문자열을 반환해주세요.\n",
    ">\n",
    "> target은 바꿀 대상(iterable)이며, word는 합쳐지는 단어입니다. \n",
    "\n",
    "---\n",
    "\n",
    "\n",
    "예시)\n",
    "\n",
    "`''.join(a)` 와 `my_join(a, '')`은 같은 함수 호출입니다.\n",
    "\n",
    "```python\n",
    "print(my_join('배고파', '.')) # => 배.고.파\n",
    "print(my_join(['1', '2', '3'], '')) # => 123\n",
    "```"
   ]
  },
  {
   "cell_type": "code",
   "execution_count": null,
   "metadata": {},
   "outputs": [],
   "source": [
    "# 아래에 코드를 작성해주세요.\n",
    "def my_join(words, join):\n",
    "    result =''\n",
    "    for i in range(len(words)):\n",
    "        if i == len(words)-1:  #마지막글자 \n",
    "            result += words[i]\n",
    "            break\n",
    "        result += words[i] + join\n",
    "        \n",
    "    return result"
   ]
  },
  {
   "cell_type": "code",
   "execution_count": null,
   "metadata": {},
   "outputs": [],
   "source": [
    "print(my_join('배고파', '.'))\n",
    "print(my_join(['1', '2', '3'], ''))"
   ]
  },
  {
   "cell_type": "markdown",
   "metadata": {},
   "source": [
    "#  가능한 적게 변경하기\n",
    "\n",
    "> 대문자와 소문자가 혼합되어 있는 문자열어 주어지며\n",
    ">\n",
    "> 다음의 기준에 따라서 문자열을 소문자 혹은 대문자로 변환하세요.\n",
    "\n",
    "\n",
    "*  가능한 적게 변경하세요.\n",
    "*  만약에 문자열의 대문자 혹은 소문자가 같다면, 문자열을 모두 소문자로 변경하세요.\n",
    "\n",
    "--- \n",
    "\n",
    "```python\n",
    "# 예시 입력) \n",
    "print(solve('coDe'))\n",
    "print(solve('CODe'))\n",
    "print(solve('coDE'))\n",
    "\n",
    "# 예시 출력)\n",
    "'code'\n",
    "'CODE'\n",
    "'code'\n",
    "```"
   ]
  },
  {
   "cell_type": "code",
   "execution_count": null,
   "metadata": {},
   "outputs": [],
   "source": [
    "# 아래에 코드를 작성해주세요.\n",
    "def solve(words):\n",
    "    cnt = 0\n",
    "    for word in words:\n",
    "        if word.isupper():\n",
    "            cnt += 1\n",
    "    if cnt > 2:\n",
    "        words = words.upper()\n",
    "    else:\n",
    "        words = words.lower()\n",
    "    return words"
   ]
  },
  {
   "cell_type": "code",
   "execution_count": null,
   "metadata": {},
   "outputs": [],
   "source": [
    "print(solve('coDe'))\n",
    "print(solve('CODe'))\n",
    "print(solve('coDE'))"
   ]
  },
  {
   "cell_type": "markdown",
   "metadata": {},
   "source": [
    "# 숨바꼭질\n",
    "\n",
    "> 숫자가 주어지면, 사용되지 않은 숫자를 프린트하세요.\n",
    "\n",
    "---\n",
    "\n",
    "```python\n",
    "# 예시)\n",
    "unused_digits(12, 34, 56, 78) # => '09'\n",
    "\n",
    "unused_digits(2015, 8, 26)  # => '3479'\n",
    "```\n",
    "\n",
    "\n",
    "**결과값은 정렬되어야 합니다.**\n",
    "\n"
   ]
  },
  {
   "cell_type": "code",
   "execution_count": null,
   "metadata": {},
   "outputs": [],
   "source": [
    "# 아래에 코드를 작성해주세요.\n",
    "def unused_digits(*args):\n",
    "    result = ''\n",
    "    n_str = ''\n",
    "    for n in args:\n",
    "        n_str += str(n)  ## 합치고\n",
    "    for i in range(10):## 판별\n",
    "        if str(i) not in n_str:\n",
    "            result += str(i)\n",
    "    return result"
   ]
  },
  {
   "cell_type": "code",
   "execution_count": null,
   "metadata": {},
   "outputs": [],
   "source": [
    "print(unused_digits(12, 34, 56, 78))\n",
    "print(unused_digits(2015, 8, 26))"
   ]
  },
  {
   "cell_type": "markdown",
   "metadata": {},
   "source": [
    "# 짝홀짝홀"
   ]
  },
  {
   "cell_type": "markdown",
   "metadata": {},
   "source": [
    "> n개의 양의 정수 리스트가 주어지면, 홀수와 짝수를 분리하고 각각의 조건에 맞게 홀수와 짝수를 \n",
    "정렬하세요.\n",
    "\n",
    "> 조건\n",
    "1. 짝수와 홀수가 번갈아 가면서 나오게 됩니다.\n",
    "2. 짝수가 먼저 시작됩니다.\n",
    "3. 짝수는 오름차순으로 홀수는 내림차순으로 되어야합니다.\n",
    "\n",
    "> 실습 입력 인자 조건\n",
    "1. 인자 리스트의 크기는 적어도 4이상입니다.\n",
    "2. 인자 리스트의 요소값으로 0은 존재하지 않습니다.\n",
    "3. 인자 리스트의 요소값이 반복될 수 있으나 출력할 때는 중복 값이 없습니다.\n",
    "\n",
    "```python\n",
    "# 예시) \n",
    "\n",
    "print(even_and_odd([7, 3 , 14 , 17]))\n",
    "# => [14, 17, 7, 3]\n",
    "\n",
    "print(even_and_odd([1, 3, 5, 7, 9, 11]))\n",
    "# => [11, 9, 7, 5, 3, 1]\n",
    "\n",
    "print(even_and_odd([1, 2, 2, 4, 4, 6, 6, 2004, 9, 11]))\n",
    "# => [2, 11, 4, 9, 6, 1, 2004]\n",
    "```"
   ]
  },
  {
   "cell_type": "code",
   "execution_count": null,
   "metadata": {},
   "outputs": [],
   "source": [
    "# 여기에 코드를 작성하세요\n",
    "def even_and_odd(numbers):\n",
    "    new_list = []\n",
    "    even = []\n",
    "    odd = []\n",
    "    result = []\n",
    "    for n in range(1, len(numbers)):  ## 중복제거\n",
    "        if numbers[n-1] !=numbers[n]:\n",
    "            new_list.append(numbers[n-1])\n",
    "    new_list.append(numbers[-1])\n",
    "    for num in new_list:  ## 홀짝\n",
    "        if num%2:\n",
    "            odd.append(num)\n",
    "            odd = sorted(odd, reverse=True)\n",
    "        else:\n",
    "            even.append(num)\n",
    "            even = sorted(even)\n",
    "    if not len(even):  ##짝홀 리스트 빈리스트일경우\n",
    "        return odd\n",
    "    elif not len(odd):\n",
    "        return even\n",
    "    for i in range(len(numbers)): ### 채우는 과정\n",
    "        result.append(even[i])\n",
    "        result.append(odd[i])\n",
    "        if i == len(even)-1:   ###먼저 리스트가 끝났을때 \n",
    "            result += odd[i+1:]\n",
    "            break\n",
    "        elif i == len(odd)-1:\n",
    "            result += even[i+1:]\n",
    "            break\n",
    "    return result"
   ]
  },
  {
   "cell_type": "code",
   "execution_count": null,
   "metadata": {
    "scrolled": true
   },
   "outputs": [],
   "source": [
    "print(even_and_odd([7, 3, 14, 17]))\n",
    "print(even_and_odd([1, 3, 5, 7, 9, 11]))\n",
    "print(even_and_odd([1, 2, 2, 4, 4, 6, 6, 2004, 9, 11]))"
   ]
  },
  {
   "cell_type": "markdown",
   "metadata": {},
   "source": [
    "# 문자열 계산하기\n",
    "\n",
    "> 아래와 같이 문자열이 주어졌을 때, 바보같은 사용자를 위해 계산을 해주려고 한다.\n",
    ">\n",
    "> 이 계산기는 더하기와 빼기밖에 못한다.\n",
    ">\n",
    "> `calc(equation)`을 만들어봅시다.\n",
    "\n",
    "\n",
    "```python\n",
    "# 예시\n",
    "calc('123+2-124')\n",
    "#=> 1\n",
    "\n",
    "calc('-12+12-7979+9191')\n",
    "#=> 1212\n",
    "\n",
    "calc('+1-1+1-1+1-1+1-1+1-1+1-1+1-1+1-1+1-1+1-1+1-1+1-1+1-1+1-1+1-1+1-1')\n",
    "#=> 0\n",
    "```"
   ]
  },
  {
   "cell_type": "code",
   "execution_count": 110,
   "metadata": {},
   "outputs": [],
   "source": [
    "# 여기에 코드를 작성하세요.\n",
    "def calc(equation):\n",
    "    numbers = '0'\n",
    "    result = 0\n",
    "    sw = 1\n",
    "    for i in equation:        \n",
    "        if i == '+':\n",
    "            result += sw * int(numbers)\n",
    "            numbers = ''\n",
    "            sw = 1\n",
    "        elif i == '-':\n",
    "            result += sw * int(numbers)\n",
    "            numbers = ''\n",
    "            sw = -1\n",
    "        else:\n",
    "            numbers += i\n",
    "    result += sw * int(numbers)\n",
    "    return result"
   ]
  },
  {
   "cell_type": "code",
   "execution_count": 111,
   "metadata": {},
   "outputs": [
    {
     "name": "stdout",
     "output_type": "stream",
     "text": [
      "------------------\n",
      "1\n",
      "------------------\n",
      "1212\n",
      "------------------\n",
      "0\n"
     ]
    }
   ],
   "source": [
    "print(calc('123+2-124'))\n",
    "print(calc('-12+12-7979+9191'))\n",
    "print(calc('+1-1+1-1+1-1+1-1+1-1+1-1+1-1+1-1+1-1+1-1+1-1+1-1+1-1+1-1+1-1+1-1'))"
   ]
  },
  {
   "cell_type": "code",
   "execution_count": 2,
   "metadata": {},
   "outputs": [],
   "source": [
    "def calc(equation):\n",
    "    return eval(equation)"
   ]
  },
  {
   "cell_type": "code",
   "execution_count": null,
   "metadata": {},
   "outputs": [],
   "source": []
  }
 ],
 "metadata": {
  "kernelspec": {
   "display_name": "Python 3",
   "language": "python",
   "name": "python3"
  },
  "language_info": {
   "codemirror_mode": {
    "name": "ipython",
    "version": 3
   },
   "file_extension": ".py",
   "mimetype": "text/x-python",
   "name": "python",
   "nbconvert_exporter": "python",
   "pygments_lexer": "ipython3",
   "version": "3.7.3"
  },
  "latex_envs": {
   "LaTeX_envs_menu_present": true,
   "autoclose": false,
   "autocomplete": true,
   "bibliofile": "biblio.bib",
   "cite_by": "apalike",
   "current_citInitial": 1,
   "eqLabelWithNumbers": true,
   "eqNumInitial": 1,
   "hotkeys": {
    "equation": "Ctrl-E",
    "itemize": "Ctrl-I"
   },
   "labels_anchors": false,
   "latex_user_defs": false,
   "report_style_numbering": false,
   "user_envs_cfg": false
  },
  "toc": {
   "base_numbering": 1,
   "nav_menu": {},
   "number_sections": true,
   "sideBar": true,
   "skip_h1_title": false,
   "title_cell": "Table of Contents",
   "title_sidebar": "Contents",
   "toc_cell": false,
   "toc_position": {},
   "toc_section_display": true,
   "toc_window_display": false
  }
 },
 "nbformat": 4,
 "nbformat_minor": 2
}
