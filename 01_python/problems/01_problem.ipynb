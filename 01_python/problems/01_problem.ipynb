{
 "cells": [
  {
   "cell_type": "markdown",
   "metadata": {},
   "source": [
    "# 상승장? 하락장?\n",
    "\n",
    "> 최고가와 최저가의 차이를 변동폭으로 정의할 때 (시가 + 변동폭)이 최고가 보다 높을 경우 \"상승장\", 그렇지 않은 경우 \"하락장\" 문자열을 출력하라.\n",
    "변동폭 : 최고가와 최저가의 차이\n",
    "시가 : 시작가\n",
    "상승장 : 시가 + 변동폭이 최고가 보다 높은경우\n",
    "하락장 : 시가 + 변동폭이 최고가 보다 낮은경우\n",
    "\n",
    "|Key Name|Description|\n",
    "|------|---|\n",
    "|opeing_price|최근 24시간 내 시작 거래금액|\n",
    "|closing_price|최근 24시간 내 마지막 거래금액|\n",
    "|min_price|최근 24시간 내 최저 거래금액|\n",
    "|max_price|최근 24시간 내 최고 거래금액|"
   ]
  },
  {
   "cell_type": "code",
   "execution_count": 1,
   "metadata": {},
   "outputs": [
    {
     "name": "stdout",
     "output_type": "stream",
     "text": [
      "{'opening_price': '13453000', 'closing_price': '12400000', 'min_price': '11879000', 'max_price': '13533000', 'average_price': '12651818.9791', 'units_traded': '17280.917783', 'volume_1day': '17280.917783', 'volume_7day': '90543.34480813', 'buy_price': '12392000', 'sell_price': '12400000', '24H_fluctate': '-1053000', '24H_fluctate_rate': '-7.82', 'date': '1563177899935'}\n"
     ]
    }
   ],
   "source": [
    "import requests\n",
    "\n",
    "url = \"https://api.bithumb.com/public/ticker/btc\"\n",
    "data = requests.get(url).json()['data']\n",
    "print(data)"
   ]
  },
  {
   "cell_type": "code",
   "execution_count": 12,
   "metadata": {},
   "outputs": [
    {
     "name": "stdout",
     "output_type": "stream",
     "text": [
      "상승장\n"
     ]
    }
   ],
   "source": [
    "# 아래에 코드를 작성하세요.\n",
    "dif_money = int(data.get('max_price')) - int(data.get('min_price'))\n",
    "dif = int(data.get('opening_price')) + dif_money\n",
    "if dif < int(data.get('max_price')):\n",
    "    print('하락장')\n",
    "else:\n",
    "    print('상승장')"
   ]
  },
  {
   "cell_type": "markdown",
   "metadata": {},
   "source": [
    "# 모음 제거하기\n",
    "\n",
    "> 다음 문장의 모음을 제거하여 출력하세요.\n",
    "\n",
    "```\n",
    "예시 입력)\n",
    "\"Life is too short, you need python\"\n",
    "예시 출력)\n",
    "Lf s t shrt, y nd pythn\n",
    "```"
   ]
  },
  {
   "cell_type": "code",
   "execution_count": 2,
   "metadata": {},
   "outputs": [],
   "source": [
    "my_str = \"Life is too short, you need python\""
   ]
  },
  {
   "cell_type": "code",
   "execution_count": 55,
   "metadata": {},
   "outputs": [
    {
     "name": "stdout",
     "output_type": "stream",
     "text": [
      "['L', 'f', ' ', 's', ' ', 't', ' ', 's', 'h', 'r', 't', ',', ' ', 'y', ' ', 'n', 'd', ' ', 'p', 'y', 't', 'h', 'n']\n"
     ]
    }
   ],
   "source": [
    "# 아래에 코드를 작성하세요.\n",
    "my_list = list(my_str)\n",
    "\n",
    "my = str(my_str)\n",
    "boxes = []\n",
    "# for i in range(len(my_str)):\n",
    "#     if  my_list[i] in ['a','e','i','o','u']:\n",
    "#         my_list[i] = ''\n",
    "# my_new = str(my_list)\n",
    "# print(my_new)\n",
    "for i in range(len(my_str)):\n",
    "    if my_list[i] not in ['a','e','i','o','u']:\n",
    "        boxes.append(my_list[i])\n",
    "        \n",
    "print(str(boxes))\n",
    "        \n",
    "        \n"
   ]
  }
 ],
 "metadata": {
  "kernelspec": {
   "display_name": "Python 3",
   "language": "python",
   "name": "python3"
  },
  "language_info": {
   "codemirror_mode": {
    "name": "ipython",
    "version": 3
   },
   "file_extension": ".py",
   "mimetype": "text/x-python",
   "name": "python",
   "nbconvert_exporter": "python",
   "pygments_lexer": "ipython3",
   "version": "3.7.3"
  },
  "toc": {
   "base_numbering": 1,
   "nav_menu": {},
   "number_sections": true,
   "sideBar": true,
   "skip_h1_title": false,
   "title_cell": "Table of Contents",
   "title_sidebar": "Contents",
   "toc_cell": false,
   "toc_position": {},
   "toc_section_display": true,
   "toc_window_display": false
  }
 },
 "nbformat": 4,
 "nbformat_minor": 2
}
