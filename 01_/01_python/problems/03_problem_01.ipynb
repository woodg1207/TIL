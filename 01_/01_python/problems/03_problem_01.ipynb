{
 "cells": [
  {
   "cell_type": "markdown",
   "metadata": {},
   "source": [
    "# `abs()`\n",
    "\n",
    "> 절대값은 숫자(int, float)가 들어오면 절대값을 반환하고, 복소수(complex)가 들어오면 그 크기를 반환합니다.\n",
    "> \n",
    "> `my_abs(x)`를 만들어보세요."
   ]
  },
  {
   "cell_type": "markdown",
   "metadata": {},
   "source": [
    "**공식문서**\n",
    "<center>\n",
    "    <img src=\"https://user-images.githubusercontent.com/52446416/61273106-b6ee5c00-a7e3-11e9-8ec2-a086b0bc584f.png\", alt=\"\">\n",
    "</center>"
   ]
  },
  {
   "cell_type": "markdown",
   "metadata": {},
   "source": [
    "**복소수 크기 구하는법**\n",
    "<center>\n",
    "    <img src=\"https://user-images.githubusercontent.com/52446416/61273105-b655c580-a7e3-11e9-9859-0a9ffdecdf7d.png\", alt=\"\">\n",
    "</center>"
   ]
  },
  {
   "cell_type": "code",
   "execution_count": null,
   "metadata": {},
   "outputs": [],
   "source": [
    "# 예제 입력 및 출력\n",
    "print(abs(3+4j), abs(-0.0), abs(-5))\n",
    "abs(0)"
   ]
  },
  {
   "cell_type": "code",
   "execution_count": null,
   "metadata": {},
   "outputs": [],
   "source": []
  },
  {
   "cell_type": "code",
   "execution_count": null,
   "metadata": {},
   "outputs": [],
   "source": [
    "# 아래에 코드를 작성해주세요.\n",
    "def my_abs(num):\n",
    "    if 'j' in str(num): ##복소수\n",
    "        n = str(num)[1:-2]\n",
    "        k= n.split('+')\n",
    "        result = (int(k[0])**2) + (int(k[1])**2)\n",
    "        return result**(1/2)\n",
    "    else:             ##절댓값\n",
    "        if num > 0:\n",
    "            return num\n",
    "        \n",
    "        elif num == 0:\n",
    "            if '-' in str(num):\n",
    "                return -num\n",
    "            else:\n",
    "                return num\n",
    "        else:\n",
    "            return -num"
   ]
  },
  {
   "cell_type": "code",
   "execution_count": null,
   "metadata": {},
   "outputs": [],
   "source": [
    "def my_abs(x):\n",
    "    if type(x) == complex:\n",
    "        return (x.real**2 + x.imag**2)**(1/2)\n",
    "    else:\n",
    "        if x == 0:\n",
    "            return 0**2\n",
    "        elif x < 0:\n",
    "            return -x\n",
    "        else:\n",
    "            return x"
   ]
  },
  {
   "cell_type": "code",
   "execution_count": null,
   "metadata": {},
   "outputs": [],
   "source": [
    "# 예제 입력 및 출력\n",
    "print(my_abs(3+4j), my_abs(0.0), my_abs(-5))"
   ]
  },
  {
   "cell_type": "markdown",
   "metadata": {},
   "source": [
    "# `all()`\n",
    "\n",
    "> all은 인자로 받는 iterable(range, list)의 모든 요소가 참이거나 비어있으면 True를 반환합니다.\n",
    ">\n",
    "> 이와 같은 my_all(x)을 작성해보세요"
   ]
  },
  {
   "cell_type": "code",
   "execution_count": null,
   "metadata": {},
   "outputs": [],
   "source": [
    "# 예제 입력 및 출력\n",
    "print(all([1, 2, 5, '6']))\n",
    "print(all([[], 2, 5, '6']))"
   ]
  },
  {
   "cell_type": "code",
   "execution_count": null,
   "metadata": {},
   "outputs": [],
   "source": [
    "# 아래에 코드를 작성해주세요.\n",
    "def my_all(a):\n",
    "    for i in a:\n",
    "        if bool(i) == False:  ## if not i: 같다. \n",
    "            return False\n",
    "    return True"
   ]
  },
  {
   "cell_type": "code",
   "execution_count": null,
   "metadata": {},
   "outputs": [],
   "source": [
    "# 예제 입력 및 출력\n",
    "print(my_all([1, 2, 5, '6']))\n",
    "print(my_all([[], 2, 5, '6']))"
   ]
  },
  {
   "cell_type": "code",
   "execution_count": null,
   "metadata": {},
   "outputs": [],
   "source": [
    "def my_all(elements):\n",
    "    for element in elements:\n",
    "        "
   ]
  },
  {
   "cell_type": "markdown",
   "metadata": {},
   "source": [
    "# `any()`\n",
    "\n",
    "> any는 인자로 받는 iterable(range, list)의 요소 중 하나라도 참이면 True를 반환하고, 비어있으면 False를 반환합니다.\n",
    ">\n",
    "> 이와 같은 my_any(x)를 작성해보세요."
   ]
  },
  {
   "cell_type": "code",
   "execution_count": null,
   "metadata": {},
   "outputs": [],
   "source": [
    "# 예제 입력 및 출력\n",
    "print(any([1, 2, 5, '6']))\n",
    "print(any([[], 2, 5, '6']))\n",
    "print(any([0]))"
   ]
  },
  {
   "cell_type": "code",
   "execution_count": null,
   "metadata": {},
   "outputs": [],
   "source": [
    "# 아래에 코드를 작성해주세요.\n",
    "def my_any(a):\n",
    "    for i in a:\n",
    "        if bool(i) == True: # if i:\n",
    "            return True\n",
    "    return False"
   ]
  },
  {
   "cell_type": "code",
   "execution_count": null,
   "metadata": {
    "scrolled": true
   },
   "outputs": [],
   "source": [
    "# my_any 예제 입력 및 출력\n",
    "print(my_any([1, 2, 5, '6']))\n",
    "print(my_any([[], 2, 5, '6']))\n",
    "print(my_any([0]))"
   ]
  },
  {
   "cell_type": "code",
   "execution_count": null,
   "metadata": {},
   "outputs": [],
   "source": [
    "bool([0])\n"
   ]
  }
 ],
 "metadata": {
  "kernelspec": {
   "display_name": "Python 3",
   "language": "python",
   "name": "python3"
  },
  "language_info": {
   "codemirror_mode": {
    "name": "ipython",
    "version": 3
   },
   "file_extension": ".py",
   "mimetype": "text/x-python",
   "name": "python",
   "nbconvert_exporter": "python",
   "pygments_lexer": "ipython3",
   "version": "3.7.3"
  },
  "latex_envs": {
   "LaTeX_envs_menu_present": true,
   "autoclose": false,
   "autocomplete": true,
   "bibliofile": "biblio.bib",
   "cite_by": "apalike",
   "current_citInitial": 1,
   "eqLabelWithNumbers": true,
   "eqNumInitial": 1,
   "hotkeys": {
    "equation": "Ctrl-E",
    "itemize": "Ctrl-I"
   },
   "labels_anchors": false,
   "latex_user_defs": false,
   "report_style_numbering": false,
   "user_envs_cfg": false
  },
  "toc": {
   "base_numbering": 1,
   "nav_menu": {},
   "number_sections": true,
   "sideBar": true,
   "skip_h1_title": false,
   "title_cell": "Table of Contents",
   "title_sidebar": "Contents",
   "toc_cell": false,
   "toc_position": {},
   "toc_section_display": true,
   "toc_window_display": false
  }
 },
 "nbformat": 4,
 "nbformat_minor": 2
}
